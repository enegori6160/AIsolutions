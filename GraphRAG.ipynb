{
  "nbformat": 4,
  "nbformat_minor": 0,
  "metadata": {
    "colab": {
      "provenance": [],
      "include_colab_link": true
    },
    "kernelspec": {
      "name": "python3",
      "display_name": "Python 3"
    },
    "language_info": {
      "name": "python"
    },
    "widgets": {
      "application/vnd.jupyter.widget-state+json": {
        "a308671b92ec42da8083b0781df9e78a": {
          "model_module": "yfiles-jupyter-graphs",
          "model_name": "GraphModel",
          "model_module_version": "^1.7.0",
          "state": {
            "_context_pane_mapping": [
              {
                "id": "Neighborhood",
                "title": "Neighborhood"
              },
              {
                "id": "Data",
                "title": "Data"
              },
              {
                "id": "Search",
                "title": "Search"
              },
              {
                "id": "About",
                "title": "About"
              }
            ],
            "_data_importer": "neo4j",
            "_directed": true,
            "_dom_classes": [],
            "_edges": [
              {
                "id": 1152944594351030300,
                "start": 1,
                "end": 8,
                "properties": {
                  "label": "OPPOSED"
                },
                "label": "OPPOSED",
                "color": "#9C27B0",
                "thickness_factor": 1,
                "directed": true
              },
              {
                "id": 1152959987513819100,
                "start": 1,
                "end": 2,
                "properties": {
                  "label": "FRIEND"
                },
                "label": "FRIEND",
                "color": "#2196F3",
                "thickness_factor": 1,
                "directed": true
              },
              {
                "id": 6917568610059682000,
                "start": 1,
                "end": 3,
                "properties": {
                  "label": "POSSESSES"
                },
                "label": "POSSESSES",
                "color": "#4CAF50",
                "thickness_factor": 1,
                "directed": true
              },
              {
                "id": 1152961087025447000,
                "start": 1,
                "end": 4,
                "properties": {
                  "label": "POSSESSES"
                },
                "label": "POSSESSES",
                "color": "#4CAF50",
                "thickness_factor": 1,
                "directed": true
              },
              {
                "id": 1152963286048702500,
                "start": 1,
                "end": 3,
                "properties": {
                  "label": "SUMMONED"
                },
                "label": "SUMMONED",
                "color": "#F44336",
                "thickness_factor": 1,
                "directed": true
              },
              {
                "id": 1152964385560330200,
                "start": 1,
                "end": 6,
                "properties": {
                  "label": "ACQUAINTANCE"
                },
                "label": "ACQUAINTANCE",
                "color": "#607D8B",
                "thickness_factor": 1,
                "directed": true
              },
              {
                "id": 1155216185374015500,
                "start": 1,
                "end": 7,
                "properties": {
                  "label": "ACQUAINTANCE"
                },
                "label": "ACQUAINTANCE",
                "color": "#607D8B",
                "thickness_factor": 1,
                "directed": true
              },
              {
                "id": 1152965485071958000,
                "start": 1,
                "end": 9,
                "properties": {
                  "label": "TRAINED"
                },
                "label": "TRAINED",
                "color": "#673AB7",
                "thickness_factor": 1,
                "directed": true
              },
              {
                "id": 1152966584583585800,
                "start": 1,
                "end": 9,
                "properties": {
                  "label": "TEACHER"
                },
                "label": "TEACHER",
                "color": "#CDDC39",
                "thickness_factor": 1,
                "directed": true
              },
              {
                "id": 1152979778723119000,
                "start": 1,
                "end": 6,
                "properties": {
                  "label": "ENCOUNTERED"
                },
                "label": "ENCOUNTERED",
                "color": "#9E9E9E",
                "thickness_factor": 1,
                "directed": true
              },
              {
                "id": 1155231578536804400,
                "start": 1,
                "end": 7,
                "properties": {
                  "label": "ENCOUNTERED"
                },
                "label": "ENCOUNTERED",
                "color": "#9E9E9E",
                "thickness_factor": 1,
                "directed": true
              },
              {
                "id": 6917618088082932000,
                "start": 1,
                "end": 102,
                "properties": {
                  "label": "ENEMY"
                },
                "label": "ENEMY",
                "color": "#9C27B0",
                "thickness_factor": 1,
                "directed": true
              },
              {
                "id": 1153018261630091300,
                "start": 1,
                "end": 5,
                "properties": {
                  "label": "ADOPTED_BY"
                },
                "label": "ADOPTED_BY",
                "color": "#2196F3",
                "thickness_factor": 1,
                "directed": true
              },
              {
                "id": 1153019361141719000,
                "start": 1,
                "end": 8,
                "properties": {
                  "label": "OPPOSED_TO"
                },
                "label": "OPPOSED_TO",
                "color": "#4CAF50",
                "thickness_factor": 1,
                "directed": true
              },
              {
                "id": 1153021560164974600,
                "start": 1,
                "end": 9,
                "properties": {
                  "label": "TRAINED_BY"
                },
                "label": "TRAINED_BY",
                "color": "#F44336",
                "thickness_factor": 1,
                "directed": true
              },
              {
                "id": 6917684058780598000,
                "start": 1,
                "end": 5,
                "properties": {
                  "label": "ADOPTED_PARENTAL_LEGACY"
                },
                "label": "ADOPTED_PARENTAL_LEGACY",
                "color": "#607D8B",
                "thickness_factor": 1,
                "directed": true
              },
              {
                "id": 1152972082141724700,
                "start": 2,
                "end": 36,
                "properties": {
                  "label": "ALLY"
                },
                "label": "ALLY",
                "color": "#673AB7",
                "thickness_factor": 1,
                "directed": true
              },
              {
                "id": 1152980878234747000,
                "start": 2,
                "end": 37,
                "properties": {
                  "label": "TRAVEL_TO"
                },
                "label": "TRAVEL_TO",
                "color": "#CDDC39",
                "thickness_factor": 1,
                "directed": true
              },
              {
                "id": 1152962186537074700,
                "start": 5,
                "end": 4,
                "properties": {
                  "label": "POSSESSED"
                },
                "label": "POSSESSED",
                "color": "#9E9E9E",
                "thickness_factor": 1,
                "directed": true
              },
              {
                "id": 1153020460653346800,
                "start": 6,
                "end": 8,
                "properties": {
                  "label": "PREVENTED_AMBITION"
                },
                "label": "PREVENTED_AMBITION",
                "color": "#9C27B0",
                "thickness_factor": 1,
                "directed": true
              },
              {
                "id": 1152959987513819100,
                "start": 9,
                "end": 10,
                "properties": {
                  "label": "FRIEND"
                },
                "label": "FRIEND",
                "color": "#2196F3",
                "thickness_factor": 1,
                "directed": true
              },
              {
                "id": 1153022659676602400,
                "start": 9,
                "end": 10,
                "properties": {
                  "label": "MENTORED"
                },
                "label": "MENTORED",
                "color": "#2196F3",
                "thickness_factor": 1,
                "directed": true
              },
              {
                "id": 6919883082036150000,
                "start": 9,
                "end": 59,
                "properties": {
                  "label": "PARTICIPATED_IN"
                },
                "label": "PARTICIPATED_IN",
                "color": "#4CAF50",
                "thickness_factor": 1,
                "directed": true
              },
              {
                "id": 1153034754304508000,
                "start": 9,
                "end": 10,
                "properties": {
                  "label": "STUDENT"
                },
                "label": "STUDENT",
                "color": "#F44336",
                "thickness_factor": 1,
                "directed": true
              },
              {
                "id": 1155223881955410000,
                "start": 10,
                "end": 36,
                "properties": {
                  "label": "ALLY"
                },
                "label": "ALLY",
                "color": "#673AB7",
                "thickness_factor": 1,
                "directed": true
              },
              {
                "id": 1152980878234747000,
                "start": 10,
                "end": 37,
                "properties": {
                  "label": "TRAVEL_TO"
                },
                "label": "TRAVEL_TO",
                "color": "#CDDC39",
                "thickness_factor": 1,
                "directed": true
              },
              {
                "id": 6917533425687593000,
                "start": 12,
                "end": 29,
                "properties": {
                  "label": "SIBLING"
                },
                "label": "SIBLING",
                "color": "#607D8B",
                "thickness_factor": 1,
                "directed": true
              },
              {
                "id": 6917543321292243000,
                "start": 12,
                "end": 44,
                "properties": {
                  "label": "DEFEAT"
                },
                "label": "DEFEAT",
                "color": "#673AB7",
                "thickness_factor": 1,
                "directed": true
              },
              {
                "id": 6917559813966660000,
                "start": 12,
                "end": 26,
                "properties": {
                  "label": "MARRIED"
                },
                "label": "MARRIED",
                "color": "#CDDC39",
                "thickness_factor": 1,
                "directed": true
              },
              {
                "id": 1152959987513819100,
                "start": 12,
                "end": 10,
                "properties": {
                  "label": "FRIEND"
                },
                "label": "FRIEND",
                "color": "#2196F3",
                "thickness_factor": 1,
                "directed": true
              },
              {
                "id": 1155211787327504400,
                "start": 12,
                "end": 36,
                "properties": {
                  "label": "FRIEND"
                },
                "label": "FRIEND",
                "color": "#2196F3",
                "thickness_factor": 1,
                "directed": true
              },
              {
                "id": 6917569709571310000,
                "start": 12,
                "end": 41,
                "properties": {
                  "label": "POSSESSED"
                },
                "label": "POSSESSED",
                "color": "#9E9E9E",
                "thickness_factor": 1,
                "directed": true
              },
              {
                "id": 1152966584583585800,
                "start": 12,
                "end": 9,
                "properties": {
                  "label": "TEACHER"
                },
                "label": "TEACHER",
                "color": "#CDDC39",
                "thickness_factor": 1,
                "directed": true
              },
              {
                "id": 1152967684095213600,
                "start": 12,
                "end": 13,
                "properties": {
                  "label": "OPPONENT"
                },
                "label": "OPPONENT",
                "color": "#9E9E9E",
                "thickness_factor": 1,
                "directed": true
              },
              {
                "id": 1155219483908898800,
                "start": 12,
                "end": 15,
                "properties": {
                  "label": "OPPONENT"
                },
                "label": "OPPONENT",
                "color": "#9E9E9E",
                "thickness_factor": 1,
                "directed": true
              },
              {
                "id": 1152968783606841300,
                "start": 12,
                "end": 14,
                "properties": {
                  "label": "TRAINING_PARTNER"
                },
                "label": "TRAINING_PARTNER",
                "color": "#9C27B0",
                "thickness_factor": 1,
                "directed": true
              },
              {
                "id": 1152969883118469000,
                "start": 12,
                "end": 5,
                "properties": {
                  "label": "REUNION"
                },
                "label": "REUNION",
                "color": "#2196F3",
                "thickness_factor": 1,
                "directed": true
              },
              {
                "id": 6917579605175960000,
                "start": 12,
                "end": 10,
                "properties": {
                  "label": "ALLY"
                },
                "label": "ALLY",
                "color": "#673AB7",
                "thickness_factor": 1,
                "directed": true
              },
              {
                "id": 1152972082141724700,
                "start": 12,
                "end": 17,
                "properties": {
                  "label": "ALLY"
                },
                "label": "ALLY",
                "color": "#673AB7",
                "thickness_factor": 1,
                "directed": true
              },
              {
                "id": 1155223881955410000,
                "start": 12,
                "end": 19,
                "properties": {
                  "label": "ALLY"
                },
                "label": "ALLY",
                "color": "#673AB7",
                "thickness_factor": 1,
                "directed": true
              },
              {
                "id": 6917579605175960000,
                "start": 12,
                "end": 30,
                "properties": {
                  "label": "ALLY"
                },
                "label": "ALLY",
                "color": "#673AB7",
                "thickness_factor": 1,
                "directed": true
              },
              {
                "id": 6917579605175960000,
                "start": 12,
                "end": 36,
                "properties": {
                  "label": "ALLY"
                },
                "label": "ALLY",
                "color": "#673AB7",
                "thickness_factor": 1,
                "directed": true
              },
              {
                "id": 6917579605175960000,
                "start": 12,
                "end": 79,
                "properties": {
                  "label": "ALLY"
                },
                "label": "ALLY",
                "color": "#673AB7",
                "thickness_factor": 1,
                "directed": true
              },
              {
                "id": 1152973181653352400,
                "start": 12,
                "end": 16,
                "properties": {
                  "label": "CHALLENGE"
                },
                "label": "CHALLENGE",
                "color": "#4CAF50",
                "thickness_factor": 1,
                "directed": true
              },
              {
                "id": 1155224981467037700,
                "start": 12,
                "end": 27,
                "properties": {
                  "label": "CHALLENGE"
                },
                "label": "CHALLENGE",
                "color": "#4CAF50",
                "thickness_factor": 1,
                "directed": true
              },
              {
                "id": 1152974281164980200,
                "start": 12,
                "end": 3,
                "properties": {
                  "label": "SEEKS"
                },
                "label": "SEEKS",
                "color": "#F44336",
                "thickness_factor": 1,
                "directed": true
              },
              {
                "id": 1155226080978665500,
                "start": 12,
                "end": 21,
                "properties": {
                  "label": "SEEKS"
                },
                "label": "SEEKS",
                "color": "#F44336",
                "thickness_factor": 1,
                "directed": true
              },
              {
                "id": 1152975380676608000,
                "start": 12,
                "end": 22,
                "properties": {
                  "label": "VISITS"
                },
                "label": "VISITS",
                "color": "#607D8B",
                "thickness_factor": 1,
                "directed": true
              },
              {
                "id": 1152976480188235800,
                "start": 12,
                "end": 23,
                "properties": {
                  "label": "MEETS"
                },
                "label": "MEETS",
                "color": "#673AB7",
                "thickness_factor": 1,
                "directed": true
              },
              {
                "id": 1155228280001921000,
                "start": 12,
                "end": 24,
                "properties": {
                  "label": "MEETS"
                },
                "label": "MEETS",
                "color": "#673AB7",
                "thickness_factor": 1,
                "directed": true
              }
            ],
            "_graph_layout": {},
            "_highlight": [],
            "_license": {},
            "_model_module": "yfiles-jupyter-graphs",
            "_model_module_version": "^1.7.0",
            "_model_name": "GraphModel",
            "_neighborhood": {},
            "_nodes": [
              {
                "id": 1,
                "properties": {
                  "id": "孫悟空",
                  "label": "__Entity__:Person"
                },
                "color": "#2196F3",
                "styles": {},
                "label": "孫悟空",
                "scale_factor": 1,
                "type": "#2196F3",
                "size": [
                  55,
                  55
                ],
                "position": [
                  0,
                  0
                ]
              },
              {
                "id": 8,
                "properties": {
                  "id": "ピラフ一味",
                  "label": "__Entity__:Group"
                },
                "color": "#4CAF50",
                "styles": {},
                "label": "ピラフ一味",
                "scale_factor": 1,
                "type": "#4CAF50",
                "size": [
                  55,
                  55
                ],
                "position": [
                  0,
                  0
                ]
              },
              {
                "id": 2,
                "properties": {
                  "id": "ブルマ",
                  "label": "人物:__Entity__:Character:Person"
                },
                "color": "#F44336",
                "styles": {},
                "label": "ブルマ",
                "scale_factor": 1,
                "type": "#F44336",
                "size": [
                  55,
                  55
                ],
                "position": [
                  0,
                  0
                ]
              },
              {
                "id": 3,
                "properties": {
                  "id": "神龍",
                  "label": "Dragon:__Entity__:Character:Person"
                },
                "color": "#607D8B",
                "styles": {},
                "label": "神龍",
                "scale_factor": 1,
                "type": "#607D8B",
                "size": [
                  55,
                  55
                ],
                "position": [
                  0,
                  0
                ]
              },
              {
                "id": 4,
                "properties": {
                  "id": "四星球",
                  "label": "__Entity__:Dragon ball"
                },
                "color": "#673AB7",
                "styles": {},
                "label": "四星球",
                "scale_factor": 1,
                "type": "#673AB7",
                "size": [
                  55,
                  55
                ],
                "position": [
                  0,
                  0
                ]
              },
              {
                "id": 6,
                "properties": {
                  "id": "ウーロン",
                  "label": "__Entity__:Person"
                },
                "color": "#2196F3",
                "styles": {},
                "label": "ウーロン",
                "scale_factor": 1,
                "type": "#2196F3",
                "size": [
                  55,
                  55
                ],
                "position": [
                  0,
                  0
                ]
              },
              {
                "id": 7,
                "properties": {
                  "id": "ヤムチャ",
                  "label": "__Entity__:Person"
                },
                "color": "#2196F3",
                "styles": {},
                "label": "ヤムチャ",
                "scale_factor": 1,
                "type": "#2196F3",
                "size": [
                  55,
                  55
                ],
                "position": [
                  0,
                  0
                ]
              },
              {
                "id": 9,
                "properties": {
                  "id": "亀仙人",
                  "label": "__Entity__:Character:Person"
                },
                "color": "#CDDC39",
                "styles": {},
                "label": "亀仙人",
                "scale_factor": 1,
                "type": "#CDDC39",
                "size": [
                  55,
                  55
                ],
                "position": [
                  0,
                  0
                ]
              },
              {
                "id": 102,
                "properties": {
                  "id": "ピラフ",
                  "label": "__Entity__:Person"
                },
                "color": "#2196F3",
                "styles": {},
                "label": "ピラフ",
                "scale_factor": 1,
                "type": "#2196F3",
                "size": [
                  55,
                  55
                ],
                "position": [
                  0,
                  0
                ]
              },
              {
                "id": 5,
                "properties": {
                  "id": "孫悟飯",
                  "label": "__Entity__:Person"
                },
                "color": "#2196F3",
                "styles": {},
                "label": "孫悟飯",
                "scale_factor": 1,
                "type": "#2196F3",
                "size": [
                  55,
                  55
                ],
                "position": [
                  0,
                  0
                ]
              },
              {
                "id": 36,
                "properties": {
                  "id": "悟飯",
                  "label": "戦士:Character:Person:__Entity__:人間"
                },
                "color": "#9E9E9E",
                "styles": {},
                "label": "悟飯",
                "scale_factor": 1,
                "type": "#9E9E9E",
                "size": [
                  55,
                  55
                ],
                "position": [
                  0,
                  0
                ]
              },
              {
                "id": 37,
                "properties": {
                  "id": "ナメック星",
                  "label": "Planet:場所:__Entity__:存在"
                },
                "color": "#9C27B0",
                "styles": {},
                "label": "ナメック星",
                "scale_factor": 1,
                "type": "#9C27B0",
                "size": [
                  55,
                  55
                ],
                "position": [
                  0,
                  0
                ]
              },
              {
                "id": 10,
                "properties": {
                  "id": "クリリン",
                  "label": "__Entity__:Character:Person"
                },
                "color": "#CDDC39",
                "styles": {},
                "label": "クリリン",
                "scale_factor": 1,
                "type": "#CDDC39",
                "size": [
                  55,
                  55
                ],
                "position": [
                  0,
                  0
                ]
              },
              {
                "id": 59,
                "properties": {
                  "id": "天下一武道会",
                  "label": "Event:__Entity__"
                },
                "color": "#2196F3",
                "styles": {},
                "label": "天下一武道会",
                "scale_factor": 1,
                "type": "#2196F3",
                "size": [
                  55,
                  55
                ],
                "position": [
                  0,
                  0
                ]
              },
              {
                "id": 12,
                "properties": {
                  "id": "悟空",
                  "label": "キャラクター:戦士:Character:Person:__Entity__:人間"
                },
                "color": "#4CAF50",
                "styles": {},
                "label": "悟空",
                "scale_factor": 1,
                "type": "#4CAF50",
                "size": [
                  55,
                  55
                ],
                "position": [
                  0,
                  0
                ]
              },
              {
                "id": 29,
                "properties": {
                  "id": "ラディッツ",
                  "label": "__Entity__:Person"
                },
                "color": "#2196F3",
                "styles": {},
                "label": "ラディッツ",
                "scale_factor": 1,
                "type": "#2196F3",
                "size": [
                  55,
                  55
                ],
                "position": [
                  0,
                  0
                ]
              },
              {
                "id": 44,
                "properties": {
                  "id": "セル",
                  "label": "敵:__Entity__:Character"
                },
                "color": "#F44336",
                "styles": {},
                "label": "セル",
                "scale_factor": 1,
                "type": "#F44336",
                "size": [
                  55,
                  55
                ],
                "position": [
                  0,
                  0
                ]
              },
              {
                "id": 26,
                "properties": {
                  "id": "チチ",
                  "label": "__Entity__:Character:Person"
                },
                "color": "#CDDC39",
                "styles": {},
                "label": "チチ",
                "scale_factor": 1,
                "type": "#CDDC39",
                "size": [
                  55,
                  55
                ],
                "position": [
                  0,
                  0
                ]
              },
              {
                "id": 41,
                "properties": {
                  "id": "ドラゴンボール",
                  "label": "アイテム:存在:Item:__Entity__:Object"
                },
                "color": "#607D8B",
                "styles": {},
                "label": "ドラゴンボール",
                "scale_factor": 1,
                "type": "#607D8B",
                "size": [
                  55,
                  55
                ],
                "position": [
                  0,
                  0
                ]
              },
              {
                "id": 13,
                "properties": {
                  "id": "レッドリボン軍",
                  "label": "__Entity__:Group"
                },
                "color": "#4CAF50",
                "styles": {},
                "label": "レッドリボン軍",
                "scale_factor": 1,
                "type": "#4CAF50",
                "size": [
                  55,
                  55
                ],
                "position": [
                  0,
                  0
                ]
              },
              {
                "id": 15,
                "properties": {
                  "id": "天津飯",
                  "label": "__Entity__:Person"
                },
                "color": "#2196F3",
                "styles": {},
                "label": "天津飯",
                "scale_factor": 1,
                "type": "#2196F3",
                "size": [
                  55,
                  55
                ],
                "position": [
                  0,
                  0
                ]
              },
              {
                "id": 14,
                "properties": {
                  "id": "仙猫カリン",
                  "label": "__Entity__:Person"
                },
                "color": "#2196F3",
                "styles": {},
                "label": "仙猫カリン",
                "scale_factor": 1,
                "type": "#2196F3",
                "size": [
                  55,
                  55
                ],
                "position": [
                  0,
                  0
                ]
              },
              {
                "id": 17,
                "properties": {
                  "id": "ヤジロベー",
                  "label": "__Entity__:Character:Person"
                },
                "color": "#CDDC39",
                "styles": {},
                "label": "ヤジロベー",
                "scale_factor": 1,
                "type": "#CDDC39",
                "size": [
                  55,
                  55
                ],
                "position": [
                  0,
                  0
                ]
              },
              {
                "id": 19,
                "properties": {
                  "id": "カリン",
                  "label": "__Entity__:Character"
                },
                "color": "#673AB7",
                "styles": {},
                "label": "カリン",
                "scale_factor": 1,
                "type": "#673AB7",
                "size": [
                  55,
                  55
                ],
                "position": [
                  0,
                  0
                ]
              },
              {
                "id": 30,
                "properties": {
                  "id": "ピッコロ",
                  "label": "__Entity__:Character:Person"
                },
                "color": "#CDDC39",
                "styles": {},
                "label": "ピッコロ",
                "scale_factor": 1,
                "type": "#CDDC39",
                "size": [
                  55,
                  55
                ],
                "position": [
                  0,
                  0
                ]
              },
              {
                "id": 79,
                "properties": {
                  "id": "仲間",
                  "label": "__Entity__:Person"
                },
                "color": "#2196F3",
                "styles": {},
                "label": "仲間",
                "scale_factor": 1,
                "type": "#2196F3",
                "size": [
                  55,
                  55
                ],
                "position": [
                  0,
                  0
                ]
              },
              {
                "id": 16,
                "properties": {
                  "id": "ピッコロ大魔王",
                  "label": "Villain:__Entity__:Character:Person"
                },
                "color": "#CDDC39",
                "styles": {},
                "label": "ピッコロ大魔王",
                "scale_factor": 1,
                "type": "#CDDC39",
                "size": [
                  55,
                  55
                ],
                "position": [
                  0,
                  0
                ]
              },
              {
                "id": 27,
                "properties": {
                  "id": "マジュニア",
                  "label": "__Entity__:Person"
                },
                "color": "#2196F3",
                "styles": {},
                "label": "マジュニア",
                "scale_factor": 1,
                "type": "#2196F3",
                "size": [
                  55,
                  55
                ],
                "position": [
                  0,
                  0
                ]
              },
              {
                "id": 21,
                "properties": {
                  "id": "仲間たち",
                  "label": "__Entity__:Person"
                },
                "color": "#2196F3",
                "styles": {},
                "label": "仲間たち",
                "scale_factor": 1,
                "type": "#2196F3",
                "size": [
                  55,
                  55
                ],
                "position": [
                  0,
                  0
                ]
              },
              {
                "id": 22,
                "properties": {
                  "id": "天界",
                  "label": "Place:__Entity__"
                },
                "color": "#9E9E9E",
                "styles": {},
                "label": "天界",
                "scale_factor": 1,
                "type": "#9E9E9E",
                "size": [
                  55,
                  55
                ],
                "position": [
                  0,
                  0
                ]
              },
              {
                "id": 23,
                "properties": {
                  "id": "ドラゴンボールの創造者",
                  "label": "__Entity__:Person"
                },
                "color": "#2196F3",
                "styles": {},
                "label": "ドラゴンボールの創造者",
                "scale_factor": 1,
                "type": "#2196F3",
                "size": [
                  55,
                  55
                ],
                "position": [
                  0,
                  0
                ]
              },
              {
                "id": 24,
                "properties": {
                  "id": "神様",
                  "label": "__Entity__:Character:Person"
                },
                "color": "#CDDC39",
                "styles": {},
                "label": "神様",
                "scale_factor": 1,
                "type": "#CDDC39",
                "size": [
                  55,
                  55
                ],
                "position": [
                  0,
                  0
                ]
              }
            ],
            "_overview": {
              "enabled": null,
              "overview_set": false
            },
            "_selected_graph": [
              [],
              []
            ],
            "_sidebar": {
              "enabled": true,
              "start_with": ""
            },
            "_view_count": null,
            "_view_module": "yfiles-jupyter-graphs",
            "_view_module_version": "^1.7.0",
            "_view_name": "GraphView",
            "layout": "IPY_MODEL_2f739e2fca0b478cb0c2372d39b0518c",
            "tabbable": null,
            "tooltip": null
          }
        },
        "2f739e2fca0b478cb0c2372d39b0518c": {
          "model_module": "@jupyter-widgets/base",
          "model_name": "LayoutModel",
          "model_module_version": "2.0.0",
          "state": {
            "_model_module": "@jupyter-widgets/base",
            "_model_module_version": "2.0.0",
            "_model_name": "LayoutModel",
            "_view_count": null,
            "_view_module": "@jupyter-widgets/base",
            "_view_module_version": "2.0.0",
            "_view_name": "LayoutView",
            "align_content": null,
            "align_items": null,
            "align_self": null,
            "border_bottom": null,
            "border_left": null,
            "border_right": null,
            "border_top": null,
            "bottom": null,
            "display": null,
            "flex": null,
            "flex_flow": null,
            "grid_area": null,
            "grid_auto_columns": null,
            "grid_auto_flow": null,
            "grid_auto_rows": null,
            "grid_column": null,
            "grid_gap": null,
            "grid_row": null,
            "grid_template_areas": null,
            "grid_template_columns": null,
            "grid_template_rows": null,
            "height": "800px",
            "justify_content": null,
            "justify_items": null,
            "left": null,
            "margin": null,
            "max_height": null,
            "max_width": null,
            "min_height": null,
            "min_width": null,
            "object_fit": null,
            "object_position": null,
            "order": null,
            "overflow": null,
            "padding": null,
            "right": null,
            "top": null,
            "visibility": null,
            "width": "100%"
          }
        }
      }
    }
  },
  "cells": [
    {
      "cell_type": "markdown",
      "metadata": {
        "id": "view-in-github",
        "colab_type": "text"
      },
      "source": [
        "<a href=\"https://colab.research.google.com/github/enegori6160/rags/blob/main/GraphRAG.ipynb\" target=\"_parent\"><img src=\"https://colab.research.google.com/assets/colab-badge.svg\" alt=\"Open In Colab\"/></a>"
      ]
    },
    {
      "cell_type": "code",
      "source": [
        "# 参考 https://blog.langchain.dev/enhancing-rag-based-applications-accuracy-by-constructing-and-leveraging-knowledge-graphs/"
      ],
      "metadata": {
        "id": "idy48NmiizAM"
      },
      "execution_count": null,
      "outputs": []
    },
    {
      "cell_type": "code",
      "execution_count": null,
      "metadata": {
        "id": "HcmWzBUTwkn_"
      },
      "outputs": [],
      "source": [
        "%%capture\n",
        "%pip install --upgrade --quiet  langchain langchain-community langchain-openai langchain-experimental neo4j wikipedia tiktoken yfiles_jupyter_graphs"
      ]
    },
    {
      "cell_type": "code",
      "source": [
        "import os\n",
        "from neo4j import GraphDatabase\n",
        "from yfiles_jupyter_graphs import GraphWidget\n",
        "from langchain_core.runnables import RunnableLambda, RunnableParallel, RunnablePassthrough, ConfigurableField\n",
        "from langchain_core.prompts import ChatPromptTemplate\n",
        "from langchain_core.prompts.prompt import PromptTemplate\n",
        "from langchain_core.pydantic_v1 import BaseModel, Field\n",
        "from typing import List\n",
        "from langchain_core.output_parsers import StrOutputParser\n",
        "from langchain_community.graphs import Neo4jGraph\n",
        "from langchain.document_loaders import TextLoader\n",
        "from langchain.text_splitter import TokenTextSplitter\n",
        "from langchain_openai import ChatOpenAI\n",
        "from langchain_experimental.graph_transformers import LLMGraphTransformer\n",
        "from langchain_community.vectorstores import Neo4jVector\n",
        "from langchain_openai import OpenAIEmbeddings\n",
        "from langchain_community.vectorstores.neo4j_vector import remove_lucene_chars\n",
        "\n",
        "try:\n",
        "    import google.colab\n",
        "    from google.colab import output\n",
        "    output.enable_custom_widget_manager()\n",
        "except:\n",
        "    pass"
      ],
      "metadata": {
        "id": "e4CJ4P8_wnpB"
      },
      "execution_count": null,
      "outputs": []
    },
    {
      "cell_type": "code",
      "source": [
        "import getpass\n",
        "\n",
        "os.environ[\"OPENAI_API_KEY\"] = getpass.getpass(prompt = 'OpenAIのAPIキーを入力してください')\n",
        "os.environ[\"NEO4J_URI\"] = getpass.getpass(prompt = 'NEO4JのURIを入力してください')\n",
        "os.environ[\"NEO4J_USERNAME\"] = getpass.getpass(prompt = 'NEO4JのUSERNAMEを入力してください')\n",
        "os.environ[\"NEO4J_PASSWORD\"] = getpass.getpass(prompt = 'NEO4Jのパスワードを入力してください')"
      ],
      "metadata": {
        "colab": {
          "base_uri": "https://localhost:8080/"
        },
        "id": "I1HEY7cDiUUl",
        "outputId": "ba66fa22-24ef-425e-f2af-8adbea67cccf"
      },
      "execution_count": null,
      "outputs": [
        {
          "name": "stdout",
          "output_type": "stream",
          "text": [
            "OpenAIのAPIキーを入力してください··········\n",
            "NEO4JのURIを入力してください··········\n",
            "NEO4JのURIを入力してください··········\n",
            "NEO4Jのパスワードを入力してください··········\n"
          ]
        }
      ]
    },
    {
      "cell_type": "code",
      "source": [
        "raw_documents = TextLoader('孫悟空少年編.txt').load()\n",
        "text_splitter = TokenTextSplitter(chunk_size=512, chunk_overlap=125)\n",
        "documents = text_splitter.split_documents(raw_documents)"
      ],
      "metadata": {
        "id": "ATSvt8Rt3se8"
      },
      "execution_count": null,
      "outputs": []
    },
    {
      "cell_type": "code",
      "source": [
        "llm=ChatOpenAI(temperature=0, model_name=\"gpt-3.5-turbo-0125\")\n",
        "llm_transformer = LLMGraphTransformer(llm=llm)\n",
        "graph_documents = llm_transformer.convert_to_graph_documents(documents)"
      ],
      "metadata": {
        "id": "cJmIRgT7EzEc"
      },
      "execution_count": null,
      "outputs": []
    },
    {
      "cell_type": "code",
      "source": [
        "graph = Neo4jGraph()"
      ],
      "metadata": {
        "id": "DwSUCQSYfOL4"
      },
      "execution_count": null,
      "outputs": []
    },
    {
      "cell_type": "code",
      "source": [
        "graph.add_graph_documents(\n",
        "    graph_documents,\n",
        "    baseEntityLabel=True,\n",
        "    include_source=True\n",
        ")"
      ],
      "metadata": {
        "id": "yYTsmln33_fk"
      },
      "execution_count": null,
      "outputs": []
    },
    {
      "cell_type": "code",
      "source": [
        "# directly show the graph resulting from the given Cypher query\n",
        "default_cypher = \"MATCH (s)-[r:!MENTIONS]->(t) RETURN s,r,t LIMIT 50\"\n",
        "\n",
        "def showGraph(cypher: str = default_cypher):\n",
        "    # create a neo4j session to run queries\n",
        "    driver = GraphDatabase.driver(\n",
        "        uri = os.environ[\"NEO4J_URI\"],\n",
        "        auth = (os.environ[\"NEO4J_USERNAME\"],\n",
        "                os.environ[\"NEO4J_PASSWORD\"]))\n",
        "    session = driver.session()\n",
        "    widget = GraphWidget(graph = session.run(cypher).graph())\n",
        "    widget.node_label_mapping = 'id'\n",
        "    #display(widget)\n",
        "    return widget"
      ],
      "metadata": {
        "id": "6ZSX8NVV4DJy"
      },
      "execution_count": null,
      "outputs": []
    },
    {
      "cell_type": "code",
      "source": [
        "showGraph()"
      ],
      "metadata": {
        "id": "TnoV7_TNGh8m",
        "colab": {
          "base_uri": "https://localhost:8080/",
          "height": 817,
          "referenced_widgets": [
            "a308671b92ec42da8083b0781df9e78a",
            "2f739e2fca0b478cb0c2372d39b0518c"
          ]
        },
        "outputId": "0b69e497-70eb-4fe5-e147-9c8fc02c48cf"
      },
      "execution_count": null,
      "outputs": [
        {
          "output_type": "display_data",
          "data": {
            "text/plain": [
              "GraphWidget(layout=Layout(height='800px', width='100%'))"
            ],
            "application/vnd.jupyter.widget-view+json": {
              "version_major": 2,
              "version_minor": 0,
              "model_id": "a308671b92ec42da8083b0781df9e78a"
            }
          },
          "metadata": {
            "application/vnd.jupyter.widget-view+json": {
              "colab": {
                "custom_widget_manager": {
                  "url": "https://ssl.gstatic.com/colaboratory-static/widgets/colab-cdn-widget-manager/2b70e893a8ba7c0f/manager.min.js"
                }
              }
            }
          }
        }
      ]
    },
    {
      "cell_type": "code",
      "source": [],
      "metadata": {
        "id": "uh9ftPmVhBhv"
      },
      "execution_count": null,
      "outputs": []
    },
    {
      "cell_type": "code",
      "source": [
        "vector_index = Neo4jVector.from_existing_graph(\n",
        "    OpenAIEmbeddings(),\n",
        "    search_type=\"hybrid\",\n",
        "    node_label=\"Document\",\n",
        "    text_node_properties=[\"text\"],\n",
        "    embedding_node_property=\"embedding\"\n",
        ")"
      ],
      "metadata": {
        "id": "sW1eooLP44bL"
      },
      "execution_count": null,
      "outputs": []
    },
    {
      "cell_type": "code",
      "source": [
        "graph.query(\"CREATE FULLTEXT INDEX entity IF NOT EXISTS FOR (e:__Entity__) ON EACH [e.id]\")"
      ],
      "metadata": {
        "colab": {
          "base_uri": "https://localhost:8080/"
        },
        "id": "chRaUwyJpw5c",
        "outputId": "980e8db0-64bd-4838-f52c-32c0e9640a7a"
      },
      "execution_count": null,
      "outputs": [
        {
          "output_type": "execute_result",
          "data": {
            "text/plain": [
              "[]"
            ]
          },
          "metadata": {},
          "execution_count": 19
        }
      ]
    },
    {
      "cell_type": "code",
      "source": [
        "# Extract entities from text\n",
        "class Entities(BaseModel):\n",
        "    \"\"\"Identifying information about entities.\"\"\"\n",
        "\n",
        "    names: List[str] = Field(\n",
        "        ...,\n",
        "        description=\"All the person, organization, or business entities that \"\n",
        "        \"appear in the text\",\n",
        "    )"
      ],
      "metadata": {
        "id": "SVRIkn4O5P8O"
      },
      "execution_count": null,
      "outputs": []
    },
    {
      "cell_type": "code",
      "source": [
        "prompt = ChatPromptTemplate.from_messages(\n",
        "    [\n",
        "        (\n",
        "            \"system\",\n",
        "            \"You are extracting organization and person entities from the text.\",\n",
        "        ),\n",
        "        (\n",
        "            \"human\",\n",
        "            \"Use the given format to extract information from the following \"\n",
        "            \"input: {question}\",\n",
        "        ),\n",
        "    ]\n",
        ")\n",
        "\n",
        "entity_chain = prompt | llm.with_structured_output(Entities)"
      ],
      "metadata": {
        "id": "UjvFxY9L5QFY"
      },
      "execution_count": null,
      "outputs": []
    },
    {
      "cell_type": "code",
      "source": [
        "entity_chain.invoke({\"question\": \"梧空とにゃんたは戦った\"}).names"
      ],
      "metadata": {
        "colab": {
          "base_uri": "https://localhost:8080/"
        },
        "id": "nieBfUtIhDxj",
        "outputId": "feedb8ee-414a-46a1-a5a3-dedc8f69ac48"
      },
      "execution_count": null,
      "outputs": [
        {
          "output_type": "execute_result",
          "data": {
            "text/plain": [
              "['梧空', 'にゃんた']"
            ]
          },
          "metadata": {},
          "execution_count": 22
        }
      ]
    },
    {
      "cell_type": "code",
      "source": [
        "def generate_full_text_query(input: str) -> str:\n",
        "    \"\"\"\n",
        "    Generate a full-text search query for a given input string.\n",
        "\n",
        "    This function constructs a query string suitable for a full-text search.\n",
        "    It processes the input string by splitting it into words and appending a\n",
        "    similarity threshold (~2 changed characters) to each word, then combines\n",
        "    them using the AND operator. Useful for mapping entities from user questions\n",
        "    to database values, and allows for some misspelings.\n",
        "    \"\"\"\n",
        "    full_text_query = \"\"\n",
        "    words = [el for el in remove_lucene_chars(input).split() if el]\n",
        "    for word in words[:-1]:\n",
        "        full_text_query += f\" {word}~2 AND\"\n",
        "    full_text_query += f\" {words[-1]}~2\"\n",
        "    return full_text_query.strip()\n",
        "\n",
        "# Fulltext index query\n",
        "def structured_retriever(question: str) -> str:\n",
        "    \"\"\"\n",
        "    Collects the neighborhood of entities mentioned\n",
        "    in the question\n",
        "    \"\"\"\n",
        "    result = \"\"\n",
        "    entities = entity_chain.invoke({\"question\": question})\n",
        "    for entity in entities.names:\n",
        "        response = graph.query(\n",
        "            \"\"\"CALL db.index.fulltext.queryNodes('entity', $query, {limit:20})\n",
        "            YIELD node,score\n",
        "            CALL {\n",
        "              WITH node\n",
        "              MATCH (node)-[r:!MENTIONS]->(neighbor)\n",
        "              RETURN node.id + ' - ' + type(r) + ' -> ' + neighbor.id AS output\n",
        "              UNION ALL\n",
        "              WITH node\n",
        "              MATCH (node)<-[r:!MENTIONS]-(neighbor)\n",
        "              RETURN neighbor.id + ' - ' + type(r) + ' -> ' +  node.id AS output\n",
        "            }\n",
        "            RETURN output LIMIT 1000\n",
        "            \"\"\",\n",
        "            {\"query\": generate_full_text_query(entity)},\n",
        "        )\n",
        "        result += \"\\n\".join([el['output'] for el in response])\n",
        "    return result"
      ],
      "metadata": {
        "id": "T3meEmsX5hCU"
      },
      "execution_count": null,
      "outputs": []
    },
    {
      "cell_type": "code",
      "source": [
        "print(structured_retriever(\"孫悟空と関わりがあるエンティティを知りたい\"))"
      ],
      "metadata": {
        "colab": {
          "base_uri": "https://localhost:8080/"
        },
        "id": "mobzx64NhFgZ",
        "outputId": "1c2cfc57-30eb-4089-c5bc-ad4650ea40ae"
      },
      "execution_count": null,
      "outputs": [
        {
          "output_type": "stream",
          "name": "stdout",
          "text": [
            "孫悟飯 - POSSESSED -> 四星球\n",
            "悟空 - REUNION -> 孫悟飯\n",
            "悟空 - HAS_SON -> 孫悟飯\n",
            "孫悟空 - ADOPTED_BY -> 孫悟飯\n",
            "悟空 - FATHER_OF -> 孫悟飯\n",
            "孫悟空 - ADOPTED_PARENTAL_LEGACY -> 孫悟飯\n",
            "悟空 - 再会 -> 孫悟飯\n",
            "悟空 - SAVED -> 孫悟飯\n",
            "悟空 - SIBLING -> ラディッツ\n",
            "悟空 - DEFEAT -> セル\n",
            "悟空 - MARRIED -> チチ\n",
            "悟空 - FRIEND -> クリリン\n",
            "悟空 - FRIEND -> 悟飯\n",
            "悟空 - POSSESSED -> ドラゴンボール\n",
            "悟空 - TEACHER -> 亀仙人\n",
            "悟空 - OPPONENT -> レッドリボン軍\n",
            "悟空 - OPPONENT -> 天津飯\n",
            "悟空 - TRAINING_PARTNER -> 仙猫カリン\n",
            "悟空 - REUNION -> 孫悟飯\n",
            "悟空 - ALLY -> クリリン\n",
            "悟空 - ALLY -> ヤジロベー\n",
            "悟空 - ALLY -> カリン\n",
            "悟空 - ALLY -> ピッコロ\n",
            "悟空 - ALLY -> 悟飯\n",
            "悟空 - ALLY -> 仲間\n",
            "悟空 - CHALLENGE -> ピッコロ大魔王\n",
            "悟空 - CHALLENGE -> マジュニア\n",
            "悟空 - SEEKS -> 神龍\n",
            "悟空 - SEEKS -> 仲間たち\n",
            "悟空 - VISITS -> 天界\n",
            "悟空 - MEETS -> ドラゴンボールの創造者\n",
            "悟空 - MEETS -> 神様\n",
            "悟空 - MEETS -> 牛魔王\n",
            "悟空 - MEETS -> チチ\n",
            "悟空 - HAS_SON -> 孫悟飯\n",
            "悟空 - FOUGHT_WITH -> ナッパ\n",
            "悟空 - FOUGHT_WITH -> ベジータ\n",
            "悟空 - ENCOUNTERED -> フリーザ\n",
            "悟空 - CALL -> ポルンガ\n",
            "悟空 - 脱出 -> ナメック星\n",
            "悟空 - 漂着 -> ヤードラット星\n",
            "悟空 - 情報提供 -> トランクス\n",
            "悟空 - 未来の予知 -> トランクス\n",
            "悟空 - 未来の予知 -> 2体の人造人間\n",
            "悟空 - MENTOR -> 亀仙人\n",
            "悟空 - CHOOSES_TO_STAY_IN -> あの世\n",
            "悟空 - REFUSES_TO_BE_REVIVED -> あの世\n",
            "悟空 - SEEKS_HELP_FROM -> 占いババ\n",
            "悟空 - HIGHER_THAN -> 界王\n",
            "悟空 - ENEMY -> ラディッツ\n",
            "悟空 - ENEMY -> サイヤ人\n",
            "悟空 - ENEMY -> ナッパ\n",
            "悟空 - ENEMY -> ベジータ\n",
            "悟空 - FAMILY -> 孫悟天\n",
            "悟空 - 共に -> パン\n",
            "悟空 - 出会う -> ウーブ\n",
            "悟空 - 修行に旅立ち -> ウーブ\n",
            "悟空 - PARTICIPATED_IN -> 天下一武道会\n",
            "悟空 - TEAMMATE -> ヤジロベー\n",
            "悟空 - TEAMMATE -> カリン\n",
            "悟空 - RESURRECTION -> 神龍\n",
            "悟空 - MEETING -> 神様\n",
            "悟空 - PROMISE -> 牛魔王\n",
            "悟空 - FOUGHT -> ピッコロ大魔王\n",
            "悟空 - FOUGHT -> ラディッツ\n",
            "悟空 - FATHER_OF -> 孫悟飯\n",
            "悟空 - STUDENT -> 界王\n",
            "悟空 - SEEKS_HELP -> ポルンガ\n",
            "悟空 - SEEKS_HELP -> 占いババ\n",
            "悟空 - RECEIVED_INFORMATION_FROM -> トランクス\n",
            "悟空 - FUTURE_THREAT_OF -> 17号\n",
            "悟空 - FUTURE_THREAT_OF -> 18号\n",
            "悟空 - ABILITY_USAGE -> かめはめ波\n",
            "悟空 - REVIVAL -> ドラゴンボール\n",
            "悟空 - AWARENESS -> 魔人ブウ\n",
            "悟空 - 託す -> トランクス\n",
            "悟空 - 託す -> 孫悟天\n",
            "悟空 - 救う -> 悟飯ら\n",
            "悟空 - 最終決戦 -> ベジータ\n",
            "悟空 - 最終決戦 -> 魔人ブウ\n",
            "悟空 - TRAINING -> 界王\n",
            "悟空 - 師弟関係 -> 亀仙人\n",
            "悟空 - 修行仲間 -> クリリン\n",
            "悟空 - 出場 -> 天下一武道会\n",
            "悟空 - 闘い -> レッドリボン軍\n",
            "悟空 - 闘い -> 天津飯\n",
            "悟空 - 修行 -> 仙猫カリン\n",
            "悟空 - 再会 -> 孫悟飯\n",
            "悟空 - 復活 -> ピッコロ大魔王\n",
            "悟空 - SAVED -> 孫悟飯\n",
            "悟空 - ALLIANCE -> ピッコロ\n",
            "悟空 - DEFEATED -> ラディッツ\n",
            "悟空 - DEFEATED -> ナッパ\n",
            "悟空 - ATTACKED -> サイヤ人\n",
            "悟空 - DUELED -> ベジータ\n",
            "悟空 - DEATH -> ピッコロ\n",
            "悟空 - ACCOMPANIED -> ブルマ\n",
            "悟空 - ACCOMPANIED -> クリリン\n",
            "悟空 - REVIVED -> 神\n",
            "悟空 - VISITED -> ブルマ\n",
            "悟空 - VISITED -> クリリン\n",
            "悟空 - JOURNEYED -> ナメック星\n",
            "悟空 - ESCAPED_TO -> ナメック星\n",
            "悟空 - ARRIVED_AT -> ヤードラット星\n",
            "悟空 - RECEIVES_INFORMATION_FROM -> トランクス\n",
            "悟空 - WARNED_ABOUT_FUTURE_THREAT_BY -> 人造人間\n",
            "悟空 - UTILIZES -> かめはめ波\n",
            "悟空 - DEFEATS -> セル\n",
            "悟空 - ENCOUNTERS -> 魔人ブウ\n",
            "悟空 - TRUSTS_FATE_TO -> トランクス\n",
            "悟空 - TRUSTS_FATE_TO -> 孫悟天\n",
            "ピッコロ - ALLY -> 悟空\n",
            "ベジータ - ALLY -> 悟空\n",
            "悟飯 - ALLY -> 悟空\n",
            "トランクス - 警告 -> 悟空\n",
            "トランクス - 未来からの訪問 -> 悟空\n",
            "超サイヤ人 - DEFEATED_BY -> 悟空\n",
            "ピッコロ大魔王 - ENEMY -> 悟空\n",
            "魔人ブウ - ENEMY -> 悟空\n",
            "悟飯 - FAMILY -> 悟空\n",
            "ピッコロ大魔王 - CHALLENGED -> 悟空\n",
            "地球 - HAS_PROTECTOR -> 悟空\n",
            "フリーザ - RIVAL -> 悟空\n",
            "トランクス - REVEALED_INFORMATION_TO -> 悟空\n",
            "魔人ブウ - 攻撃 -> 悟空\n",
            "悟飯ら - 危機 -> 悟空\n",
            "トランクス - REVEALS_INFORMATION_TO -> 悟空\n",
            "魔人ブウ - DEFEATS -> 悟空\n",
            "悟飯 - SAVES -> 悟空\n",
            "ベジータ - JOINS_FORCES_WITH -> 悟空\n",
            "悟飯 - ALLY -> 悟空\n",
            "悟飯 - TRAVEL_TO -> ナメック星\n",
            "悟飯 - 蘇生 -> ドラゴンボール\n",
            "悟飯 - DEFEATED_BY -> 魔人ブウ\n",
            "悟飯 - USES_TO_REVIVE -> ドラゴンボール\n",
            "悟飯 - ENCOUNTERS_AT天下一武道会 -> 魔人ブウ\n",
            "悟飯 - ENEMY -> フリーザ\n",
            "悟飯 - FAMILY -> 悟空\n",
            "悟飯 - FAMILY -> トランクス\n",
            "悟飯 - DESTINATION -> ナメック星\n",
            "悟飯 - USES -> ポルンガ\n",
            "悟飯 - USES -> ドラゴンボール\n",
            "悟飯 - RELATED_TO -> サイヤ人\n",
            "悟飯 - RELATED_TO -> 人造人間・セル\n",
            "悟飯 - CONFLICT -> セル\n",
            "悟飯 - SUMMONED_BY -> ポルンガ\n",
            "悟飯 - RESURRECTED -> サイヤ人\n",
            "悟飯 - RESURRECTED -> フリーザ\n",
            "悟飯 - DEFEATS -> ベジータ\n",
            "悟飯 - DEFEATS -> セル\n",
            "悟飯 - RESISTS -> ゴテンクス\n",
            "悟飯 - POWER_UP -> 悟飯\n",
            "悟飯 - SAVES -> 悟空\n",
            "悟空 - FRIEND -> 悟飯\n",
            "ブルマ - ALLY -> 悟飯\n",
            "クリリン - ALLY -> 悟飯\n",
            "悟空 - ALLY -> 悟飯\n",
            "セル - FIGHTS_WITH -> 悟飯\n",
            "魔人ブウ - ENEMY -> 悟飯\n",
            "地球 - HAS_PROTECTOR -> 悟飯\n",
            "魔人ブウ - CONFLICT -> 悟飯\n",
            "魔人ブウ - 攻撃 -> 悟飯\n",
            "悟飯ら - 危機 -> 悟飯\n",
            "魔人ブウ - ABSORBS -> 悟飯\n",
            "魔人ブウ - DEFEATS -> 悟飯\n",
            "悟飯 - POWER_UP -> 悟飯\n",
            "孫悟天 - FAMILY -> トランクス\n",
            "悟空 - FAMILY -> 孫悟天\n",
            "悟空 - 託す -> 孫悟天\n",
            "悟空 - TRUSTS_FATE_TO -> 孫悟天\n",
            "悟天 - FUSION -> トランクス\n",
            "悟天 - FUSION -> ゴテンクス\n",
            "悟天 - フュージョン -> トランクス\n",
            "悟天 - 誕生 -> ゴテンクス\n",
            "悟飯ら - 応戦 -> 魔人ブウ\n",
            "悟飯ら - 吸収 -> 魔人ブウ\n",
            "悟飯ら - 苦戦 -> 魔人ブウ\n",
            "悟飯ら - 危機 -> 悟空\n",
            "悟飯ら - 危機 -> ベジータ\n",
            "悟飯ら - 危機 -> 悟飯\n",
            "魔人ブウ - 攻撃 -> 悟飯ら\n",
            "悟空 - 救う -> 悟飯ら\n",
            "ベジータ - 救う -> 悟飯ら\n",
            "孫悟空 - OPPOSED -> ピラフ一味\n",
            "孫悟空 - FRIEND -> ブルマ\n",
            "孫悟空 - POSSESSES -> 神龍\n",
            "孫悟空 - POSSESSES -> 四星球\n",
            "孫悟空 - SUMMONED -> 神龍\n",
            "孫悟空 - ACQUAINTANCE -> ウーロン\n",
            "孫悟空 - ACQUAINTANCE -> ヤムチャ\n",
            "孫悟空 - TRAINED -> 亀仙人\n",
            "孫悟空 - TEACHER -> 亀仙人\n",
            "孫悟空 - ENCOUNTERED -> ウーロン\n",
            "孫悟空 - ENCOUNTERED -> ヤムチャ\n",
            "孫悟空 - ENEMY -> ピラフ\n",
            "孫悟空 - ADOPTED_BY -> 孫悟飯\n",
            "孫悟空 - OPPOSED_TO -> ピラフ一味\n",
            "孫悟空 - TRAINED_BY -> 亀仙人\n",
            "孫悟空 - ADOPTED_PARENTAL_LEGACY -> 孫悟飯\n"
          ]
        }
      ]
    },
    {
      "cell_type": "code",
      "source": [
        "def retriever(question: str):\n",
        "    print(f\"Search query: {question}\")\n",
        "    structured_data = structured_retriever(question)\n",
        "    unstructured_data = [el.page_content for el in vector_index.similarity_search(question)]\n",
        "    final_data = f\"\"\"Structured data:\n",
        "    {structured_data}\n",
        "    Unstructured data:\n",
        "    {\"#Document \". join(unstructured_data)}\n",
        "    \"\"\"\n",
        "    # print(final_data)\n",
        "    return final_data"
      ],
      "metadata": {
        "id": "ijqAmvTe6HVL"
      },
      "execution_count": null,
      "outputs": []
    },
    {
      "cell_type": "code",
      "source": [
        "_search_query = RunnableLambda(lambda x: x[\"question\"])"
      ],
      "metadata": {
        "id": "D0nBs5bRxrV1"
      },
      "execution_count": null,
      "outputs": []
    },
    {
      "cell_type": "code",
      "source": [
        "template = \"\"\"あなたは優秀なAIです。下記のコンテキストを利用してユーザーの質問に丁寧に答えてください。\n",
        "必ず文脈からわかる情報のみを使用して回答を生成してください。\n",
        "{context}\n",
        "\n",
        "ユーザーの質問: {question}\"\"\"\n",
        "prompt = ChatPromptTemplate.from_template(template)\n",
        "\n",
        "chain = (\n",
        "    RunnableParallel(\n",
        "        {\n",
        "            \"context\": _search_query | retriever,\n",
        "            \"question\": RunnablePassthrough(),\n",
        "        }\n",
        "    )\n",
        "    | prompt\n",
        "    | llm\n",
        "    | StrOutputParser()\n",
        ")"
      ],
      "metadata": {
        "id": "mQzgiro36NdG"
      },
      "execution_count": null,
      "outputs": []
    },
    {
      "cell_type": "code",
      "source": [
        "chain.invoke({\"question\": \"梧空と仲が悪いのは誰？\"})"
      ],
      "metadata": {
        "colab": {
          "base_uri": "https://localhost:8080/",
          "height": 54
        },
        "id": "rvRurBCIhHa_",
        "outputId": "bfdcca47-7e23-4113-c1e5-042978bc9615"
      },
      "execution_count": null,
      "outputs": [
        {
          "output_type": "stream",
          "name": "stdout",
          "text": [
            "Search query: 梧空と仲が悪いのは誰？\n"
          ]
        },
        {
          "output_type": "execute_result",
          "data": {
            "text/plain": [
              "'悟空と仲が悪いのはピラフ一味です。'"
            ],
            "application/vnd.google.colaboratory.intrinsic+json": {
              "type": "string"
            }
          },
          "metadata": {},
          "execution_count": 30
        }
      ]
    },
    {
      "cell_type": "code",
      "source": [],
      "metadata": {
        "id": "2cqRizwtqn_a"
      },
      "execution_count": null,
      "outputs": []
    },
    {
      "cell_type": "code",
      "source": [],
      "metadata": {
        "id": "8pZhyuyv2jKX"
      },
      "execution_count": null,
      "outputs": []
    }
  ]
}