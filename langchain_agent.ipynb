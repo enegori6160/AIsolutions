{
  "nbformat": 4,
  "nbformat_minor": 0,
  "metadata": {
    "colab": {
      "provenance": [],
      "include_colab_link": true
    },
    "kernelspec": {
      "name": "python3",
      "display_name": "Python 3"
    },
    "language_info": {
      "name": "python"
    }
  },
  "cells": [
    {
      "cell_type": "markdown",
      "metadata": {
        "id": "view-in-github",
        "colab_type": "text"
      },
      "source": [
        "<a href=\"https://colab.research.google.com/github/enegori6160/AIsolutions/blob/main/langchain_agent.ipynb\" target=\"_parent\"><img src=\"https://colab.research.google.com/assets/colab-badge.svg\" alt=\"Open In Colab\"/></a>"
      ]
    },
    {
      "cell_type": "code",
      "source": [
        "%%capture\n",
        "!pip install langchain==0.0.157 openai==0.27.2 google-search-results==2.4.2"
      ],
      "metadata": {
        "id": "XzIIq1-F8fhb"
      },
      "execution_count": null,
      "outputs": []
    },
    {
      "cell_type": "code",
      "execution_count": null,
      "metadata": {
        "id": "ESqp93OI764l"
      },
      "outputs": [],
      "source": [
        "from langchain.agents import load_tools\n",
        "from langchain.agents import Tool\n",
        "from langchain.agents import initialize_agent\n",
        "from langchain import PromptTemplate, LLMChain\n",
        "from langchain.chat_models import ChatOpenAI\n",
        "from langchain.callbacks import get_openai_callback\n",
        "from langchain.agents import AgentType\n",
        "\n",
        "import os\n",
        "os.environ[\"SERPAPI_API_KEY\"] = \"***\"\n",
        "os.environ[\"OPENAI_API_KEY\"] = \"***\""
      ]
    },
    {
      "cell_type": "code",
      "source": [
        "# 使用するモデルを定義\n",
        "llm = ChatOpenAI(temperature=0, model_name=\"gpt-3.5-turbo\")"
      ],
      "metadata": {
        "id": "k1SNvck47_ao"
      },
      "execution_count": null,
      "outputs": []
    },
    {
      "cell_type": "code",
      "source": [
        "# google 検索を行う機能を追加\n",
        "from langchain import SerpAPIWrapper\n",
        "\n",
        "search = SerpAPIWrapper()\n",
        "tools = [\n",
        "    Tool(\n",
        "        name=\"Search\",\n",
        "        func=search.run,\n",
        "        description=\"useful for when you need to answer questions about current events.\",\n",
        "    )\n",
        "]"
      ],
      "metadata": {
        "id": "bW6fgx-67_k-"
      },
      "execution_count": null,
      "outputs": []
    },
    {
      "cell_type": "code",
      "source": [
        "# 単純に入力を受け取ってモデルに入れるプロンプト\n",
        "prompt = PromptTemplate(input_variables=[\"query\"], template=\"{query}\")\n",
        "\n",
        "# chainの定義\n",
        "llm_chain = LLMChain(llm=llm, prompt=prompt)\n",
        "\n",
        "# toolsに追加して、モデルに使って貰う\n",
        "tools.append(\n",
        "    Tool(\n",
        "        name=\"Language Model\",\n",
        "        func=llm_chain.run,\n",
        "        description=\"use this tool for general purposes like answer question and output formatting\",\n",
        "    )\n",
        ")"
      ],
      "metadata": {
        "id": "7Dmpvd5L8Bzc"
      },
      "execution_count": null,
      "outputs": []
    },
    {
      "cell_type": "code",
      "source": [
        "# 計算機能を追加\n",
        "from langchain.chains import LLMMathChain\n",
        "llm_math = LLMMathChain(llm=llm)\n",
        "\n",
        "tools.append(Tool(\n",
        "        name=\"Calculator\",\n",
        "        func=llm_math.run,\n",
        "        description=\"Useful for when you need to answer questions about calculation.\",\n",
        "    ))"
      ],
      "metadata": {
        "colab": {
          "base_uri": "https://localhost:8080/"
        },
        "id": "cp_bcwVI8B6c",
        "outputId": "3ccd14df-6186-4661-f83d-c5e2a4a6e608"
      },
      "execution_count": null,
      "outputs": [
        {
          "output_type": "stream",
          "name": "stderr",
          "text": [
            "/usr/local/lib/python3.10/dist-packages/langchain/chains/llm_math/base.py:50: UserWarning: Directly instantiating an LLMMathChain with an llm is deprecated. Please instantiate with llm_chain argument or using the from_llm class method.\n",
            "  warnings.warn(\n"
          ]
        }
      ]
    },
    {
      "cell_type": "code",
      "source": [
        "# agentの定義\n",
        "agent = initialize_agent(\n",
        "    agent=AgentType.ZERO_SHOT_REACT_DESCRIPTION,\n",
        "    tools=tools,\n",
        "    llm=llm,\n",
        "    verbose=True,\n",
        ")"
      ],
      "metadata": {
        "id": "AJyxk9rY8CAn"
      },
      "execution_count": null,
      "outputs": []
    },
    {
      "cell_type": "code",
      "source": [
        "print(agent.agent.llm_chain.prompt.template)"
      ],
      "metadata": {
        "colab": {
          "base_uri": "https://localhost:8080/"
        },
        "id": "vtLWbIzo9bAP",
        "outputId": "250d3d03-2f16-49b6-e7fa-eb338315f0a2"
      },
      "execution_count": null,
      "outputs": [
        {
          "output_type": "stream",
          "name": "stdout",
          "text": [
            "Answer the following questions as best you can. You have access to the following tools:\n",
            "\n",
            "Search: useful for when you need to answer questions about current events.\n",
            "Language Model: use this tool for general purposes like answer question and output formatting\n",
            "Calculator: Useful for when you need to answer questions about calculation.\n",
            "\n",
            "Use the following format:\n",
            "\n",
            "Question: the input question you must answer\n",
            "Thought: you should always think about what to do\n",
            "Action: the action to take, should be one of [Search, Language Model, Calculator]\n",
            "Action Input: the input to the action\n",
            "Observation: the result of the action\n",
            "... (this Thought/Action/Action Input/Observation can repeat N times)\n",
            "Thought: I now know the final answer\n",
            "Final Answer: the final answer to the original input question\n",
            "\n",
            "Begin!\n",
            "\n",
            "Question: {input}\n",
            "Thought:{agent_scratchpad}\n"
          ]
        }
      ]
    },
    {
      "cell_type": "code",
      "source": [
        "with get_openai_callback() as cb:\n",
        "    response = agent.run(\"2023年WBCの優勝国はどこでしたか？日本語で答えてください\")"
      ],
      "metadata": {
        "colab": {
          "base_uri": "https://localhost:8080/"
        },
        "id": "zrcQvekJ9bIl",
        "outputId": "b885949b-dcab-4c24-fce5-3ea79b790c78"
      },
      "execution_count": null,
      "outputs": [
        {
          "output_type": "stream",
          "name": "stdout",
          "text": [
            "\n",
            "\n",
            "\u001b[1m> Entering new AgentExecutor chain...\u001b[0m\n",
            "\u001b[32;1m\u001b[1;3mI need to search for the answer to this question.\n",
            "Action: Search\n",
            "Action Input: \"2023 WBC 優勝国\"\u001b[0m\n",
            "Observation: \u001b[36;1m\u001b[1;3mJapan national baseball team\u001b[0m\n",
            "Thought:\u001b[32;1m\u001b[1;3mI need to translate the answer into Japanese.\n",
            "Action: Language Model\n",
            "Action Input: \"Japan national baseball team\" (translate to Japanese)\u001b[0m\n",
            "Observation: \u001b[33;1m\u001b[1;3m日本代表野球チーム\u001b[0m\n",
            "Thought:\u001b[32;1m\u001b[1;3mI have the answer in Japanese, but I need to confirm the year.\n",
            "Action: Search\n",
            "Action Input: \"2023 WBC 優勝国 日本代表野球チーム\"\u001b[0m\n",
            "Observation: \u001b[36;1m\u001b[1;3m侍ジャパンがアメリカを下し3大会ぶり3回目のWBC制覇！ 大谷翔平が胴上げ投手に 3月21日（日本時間3月22日)、『2023 WORLD BASEBALL CLASSIC™』の決勝戦が行われ、侍ジャパンがMLBを代表する選手たちを揃えたアメリカを3対2で下し、7戦全勝で3大会ぶり3回目の優勝を果たした。\u001b[0m\n",
            "Thought:\u001b[32;1m\u001b[1;3mI now know the final answer.\n",
            "Final Answer: 2023年のWBCの優勝国は日本代表野球チームでした。\u001b[0m\n",
            "\n",
            "\u001b[1m> Finished chain.\u001b[0m\n"
          ]
        }
      ]
    },
    {
      "cell_type": "code",
      "source": [
        "response"
      ],
      "metadata": {
        "colab": {
          "base_uri": "https://localhost:8080/",
          "height": 36
        },
        "id": "PM13jLhU9ihW",
        "outputId": "b7d8cf87-ea0b-41c8-a8c0-dc7688fd472c"
      },
      "execution_count": null,
      "outputs": [
        {
          "output_type": "execute_result",
          "data": {
            "text/plain": [
              "'2023年のWBCの優勝国は日本代表野球チームでした。'"
            ],
            "application/vnd.google.colaboratory.intrinsic+json": {
              "type": "string"
            }
          },
          "metadata": {},
          "execution_count": 17
        }
      ]
    },
    {
      "cell_type": "code",
      "source": [
        "cb"
      ],
      "metadata": {
        "colab": {
          "base_uri": "https://localhost:8080/"
        },
        "id": "x3lwmL1Q9kOT",
        "outputId": "ffd7f6d0-839b-4e90-fa73-00585e631804"
      },
      "execution_count": null,
      "outputs": [
        {
          "output_type": "execute_result",
          "data": {
            "text/plain": [
              "Tokens Used: 1387\n",
              "\tPrompt Tokens: 1237\n",
              "\tCompletion Tokens: 150\n",
              "Successful Requests: 5\n",
              "Total Cost (USD): $0.0027740000000000004"
            ]
          },
          "metadata": {},
          "execution_count": 18
        }
      ]
    },
    {
      "cell_type": "code",
      "source": [
        "cb.total_cost * 136"
      ],
      "metadata": {
        "colab": {
          "base_uri": "https://localhost:8080/"
        },
        "id": "genpjbk_9mZF",
        "outputId": "d76bc3c2-41a5-4b9a-8241-24c64e888f4c"
      },
      "execution_count": null,
      "outputs": [
        {
          "output_type": "execute_result",
          "data": {
            "text/plain": [
              "0.37726400000000004"
            ]
          },
          "metadata": {},
          "execution_count": 19
        }
      ]
    }
  ]
}