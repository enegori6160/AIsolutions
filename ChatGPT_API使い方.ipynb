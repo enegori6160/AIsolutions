{
  "nbformat": 4,
  "nbformat_minor": 0,
  "metadata": {
    "colab": {
      "provenance": [],
      "include_colab_link": true
    },
    "kernelspec": {
      "name": "python3",
      "display_name": "Python 3"
    },
    "language_info": {
      "name": "python"
    }
  },
  "cells": [
    {
      "cell_type": "markdown",
      "metadata": {
        "id": "view-in-github",
        "colab_type": "text"
      },
      "source": [
        "<a href=\"https://colab.research.google.com/github/enegori6160/AIsolutions/blob/main/ChatGPT_API%E4%BD%BF%E3%81%84%E6%96%B9.ipynb\" target=\"_parent\"><img src=\"https://colab.research.google.com/assets/colab-badge.svg\" alt=\"Open In Colab\"/></a>"
      ]
    },
    {
      "cell_type": "code",
      "source": [
        "\"\"\"\n",
        "セルの実行：shift + Enter\n",
        "\"\"\""
      ],
      "metadata": {
        "colab": {
          "base_uri": "https://localhost:8080/",
          "height": 36
        },
        "id": "5mvzOAELYxMg",
        "outputId": "caadce8a-0fc7-44af-8161-a1d873fea5b9"
      },
      "execution_count": null,
      "outputs": [
        {
          "output_type": "execute_result",
          "data": {
            "text/plain": [
              "'\\nセルの実行：shift + Enter\\n'"
            ],
            "application/vnd.google.colaboratory.intrinsic+json": {
              "type": "string"
            }
          },
          "metadata": {},
          "execution_count": 3
        }
      ]
    },
    {
      "cell_type": "code",
      "execution_count": null,
      "metadata": {
        "colab": {
          "base_uri": "https://localhost:8080/"
        },
        "id": "TdkOfWvCYmxI",
        "outputId": "e9393b73-b9a9-46f3-c676-6a05465ea734"
      },
      "outputs": [
        {
          "output_type": "stream",
          "name": "stdout",
          "text": [
            "Looking in indexes: https://pypi.org/simple, https://us-python.pkg.dev/colab-wheels/public/simple/\n",
            "Collecting openai==0.27.0\n",
            "  Downloading openai-0.27.0-py3-none-any.whl (70 kB)\n",
            "\u001b[2K     \u001b[90m━━━━━━━━━━━━━━━━━━━━━━━━━━━━━━━━━━━━━━━━\u001b[0m \u001b[32m70.1/70.1 KB\u001b[0m \u001b[31m2.8 MB/s\u001b[0m eta \u001b[36m0:00:00\u001b[0m\n",
            "\u001b[?25hRequirement already satisfied: aiohttp in /usr/local/lib/python3.8/dist-packages (from openai==0.27.0) (3.8.4)\n",
            "Requirement already satisfied: requests>=2.20 in /usr/local/lib/python3.8/dist-packages (from openai==0.27.0) (2.25.1)\n",
            "Requirement already satisfied: tqdm in /usr/local/lib/python3.8/dist-packages (from openai==0.27.0) (4.64.1)\n",
            "Requirement already satisfied: certifi>=2017.4.17 in /usr/local/lib/python3.8/dist-packages (from requests>=2.20->openai==0.27.0) (2022.12.7)\n",
            "Requirement already satisfied: urllib3<1.27,>=1.21.1 in /usr/local/lib/python3.8/dist-packages (from requests>=2.20->openai==0.27.0) (1.26.14)\n",
            "Requirement already satisfied: idna<3,>=2.5 in /usr/local/lib/python3.8/dist-packages (from requests>=2.20->openai==0.27.0) (2.10)\n",
            "Requirement already satisfied: chardet<5,>=3.0.2 in /usr/local/lib/python3.8/dist-packages (from requests>=2.20->openai==0.27.0) (4.0.0)\n",
            "Requirement already satisfied: attrs>=17.3.0 in /usr/local/lib/python3.8/dist-packages (from aiohttp->openai==0.27.0) (22.2.0)\n",
            "Requirement already satisfied: multidict<7.0,>=4.5 in /usr/local/lib/python3.8/dist-packages (from aiohttp->openai==0.27.0) (6.0.4)\n",
            "Requirement already satisfied: aiosignal>=1.1.2 in /usr/local/lib/python3.8/dist-packages (from aiohttp->openai==0.27.0) (1.3.1)\n",
            "Requirement already satisfied: charset-normalizer<4.0,>=2.0 in /usr/local/lib/python3.8/dist-packages (from aiohttp->openai==0.27.0) (3.0.1)\n",
            "Requirement already satisfied: frozenlist>=1.1.1 in /usr/local/lib/python3.8/dist-packages (from aiohttp->openai==0.27.0) (1.3.3)\n",
            "Requirement already satisfied: async-timeout<5.0,>=4.0.0a3 in /usr/local/lib/python3.8/dist-packages (from aiohttp->openai==0.27.0) (4.0.2)\n",
            "Requirement already satisfied: yarl<2.0,>=1.0 in /usr/local/lib/python3.8/dist-packages (from aiohttp->openai==0.27.0) (1.8.2)\n",
            "Installing collected packages: openai\n",
            "Successfully installed openai-0.27.0\n"
          ]
        }
      ],
      "source": [
        "!pip install --upgrade openai==0.27.0"
      ]
    },
    {
      "cell_type": "code",
      "source": [
        "class ChatGPTAPI:\n",
        "    def __init__(self, system_setting):\n",
        "        self.system = {\"role\": \"system\", \"content\": system_setting}\n",
        "        self.input_list = [self.system]\n",
        "        self.logs = []\n",
        "\n",
        "    def input_message(self, input_text):\n",
        "        self.input_list.append({\"role\": \"user\", \"content\": input_text})\n",
        "        result = openai.ChatCompletion.create(\n",
        "            model=\"gpt-3.5-turbo\", messages=self.input_list\n",
        "        )\n",
        "        self.logs.append(result)\n",
        "        self.input_list.append(\n",
        "            {\"role\": \"assistant\", \"content\": result.choices[0].message.content}\n",
        "        )\n",
        "        print(self.input_list[-1][\"content\"])"
      ],
      "metadata": {
        "id": "-NPEmlTQYq4h"
      },
      "execution_count": null,
      "outputs": []
    },
    {
      "cell_type": "code",
      "source": [
        "\"\"\"\n",
        "下の***をOpenAIの公式ページから発行した\n",
        "APIKeyに変更する必要があります。\n",
        "\"\"\"\n",
        "import openai\n",
        "openai.api_key = \"***\""
      ],
      "metadata": {
        "id": "RopKrBBbYv0e"
      },
      "execution_count": null,
      "outputs": []
    },
    {
      "cell_type": "code",
      "source": [
        "api = ChatGPTAPI(system_setting=\"あなたは短い文章で、必ず語尾に「にゃー」を付けるアシスタントです。では、会話を開始します。\")"
      ],
      "metadata": {
        "id": "noNpku-OYwDY"
      },
      "execution_count": null,
      "outputs": []
    },
    {
      "cell_type": "code",
      "source": [
        "api.input_message(\"こんにちわ\")"
      ],
      "metadata": {
        "id": "XcmEezKTZK0N"
      },
      "execution_count": null,
      "outputs": []
    },
    {
      "cell_type": "code",
      "source": [
        "api.input_message(\"今日はいい天気ですね\")"
      ],
      "metadata": {
        "id": "1qr9QkbEZLgC"
      },
      "execution_count": null,
      "outputs": []
    },
    {
      "cell_type": "code",
      "source": [],
      "metadata": {
        "id": "Ib0XJswNZRLU"
      },
      "execution_count": null,
      "outputs": []
    },
    {
      "cell_type": "code",
      "source": [
        "#@title AI同士の会話のさせた方"
      ],
      "metadata": {
        "id": "VQ64_rf3ZRca"
      },
      "execution_count": null,
      "outputs": []
    },
    {
      "cell_type": "code",
      "source": [
        "api_1 = ChatGPTAPI(system_setting=\"あなたは短い文章で、必ず語尾に「にゃー」を付けるアシスタントです。では、会話を開始します。\")\n",
        "\n",
        "api_2 = ChatGPTAPI(system_setting=\"あなたは短い文章で、必ず語尾に「ワン」を付けるアシスタントです。では、会話を開始します。\")"
      ],
      "metadata": {
        "id": "Xo1aYMyzZLtK"
      },
      "execution_count": null,
      "outputs": []
    },
    {
      "cell_type": "code",
      "source": [
        "# 最初は自分で打つ\n",
        "api_1.input_message(\"こんにちわワン\")"
      ],
      "metadata": {
        "id": "tGDamD87ZXu2"
      },
      "execution_count": null,
      "outputs": []
    },
    {
      "cell_type": "code",
      "source": [
        "api_2.input_message(api_1.input_list[-1][\"content\"])"
      ],
      "metadata": {
        "id": "UzObF2jOZbQ0"
      },
      "execution_count": null,
      "outputs": []
    },
    {
      "cell_type": "code",
      "source": [
        "api_1.input_message(api_2.input_list[-1][\"content\"])"
      ],
      "metadata": {
        "id": "ZOhoo57nZigJ"
      },
      "execution_count": null,
      "outputs": []
    },
    {
      "cell_type": "code",
      "source": [
        "\"\"\"\n",
        "api_1.input_list[-1][\"content\"] がapi_1で発言した最後の文章(ChatGPTからの返答)を取得しています。\n",
        "取得したメッセージをapi_2に入力しています。\n",
        "\n",
        "上記を繰り返すことで、AI同士で会話させることができます。\n",
        "トークンが多すぎる場合に、エラーが出ることがあります。\n",
        "\n",
        "再度\n",
        "api_1 = ChatGPTAPI(system_setting=\"あなたは短い文章で、必ず語尾に「にゃー」を付けるアシスタントです。では、会話を開始します。\")\n",
        "のように、オブジェクトを定義することで会話を実行することができますが、過去の会話履歴は消去されます。\n",
        "\n",
        "また、短期間でAPIを実行しすぎるとエラーがでることがあります。\n",
        "その場合、少し時間を空けてから実行すると良いと思います。\n",
        "\n",
        "\"\"\""
      ],
      "metadata": {
        "id": "yUdDifpgZi8S"
      },
      "execution_count": null,
      "outputs": []
    }
  ]
}